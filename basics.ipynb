{
 "cells": [
  {
   "cell_type": "markdown",
   "metadata": {
    "slideshow": {
     "slide_type": "slide"
    }
   },
   "source": [
    "\n",
    "\n",
    "# Basics pre-requisites molecular modeling\n",
    "\n",
    "## New to HPC & Sigma2?\n",
    "Read https://documentation.sigma2.no/getting_started/getting_started.html\n",
    "\n",
    "## TigerVNC\n",
    "Remote desktop (mac/win) - tigerVNC (https://documentation.sigma2.no/getting_started/remote-desktop.html) \n",
    "- Download & install TigerVNC: https://tigervnc.org/ \n",
    "- Start TigerVNC and eneter as **server to connect to**:\n",
    "    - `desktop.saga.sigma2.no:5901`\n",
    "- Right click the desktop window and choose <mark>Open Terminal Here </mark>\n",
    "\n",
    "## Maneuvering the command line (cmd) \n",
    "In short, bash is a command processor that runs in a text window where the user (you) types **commands** that causes **actions**. Since bash also can read and execute commands from files, it can be used to write scripts. \n",
    "\n",
    "### Some basic commands commands\n",
    "#### ls — List directory contents\n",
    "```bash\n",
    "ls -ltr\n",
    "```\n"
   ]
  },
  {
   "cell_type": "markdown",
   "metadata": {
    "slideshow": {
     "slide_type": "slide"
    }
   },
   "source": [
    "#### cd — Change directory\n",
    "```bash\n",
    "cd path/to/some/place\n",
    "cd ../\n",
    "```\n",
    "\n",
    "#### . and ..\n",
    "<mark>.</mark> means here where I am now\n",
    "```bash\n",
    "cp somestuff/from/somewhere/foo.txt .\n",
    "```\n",
    "\n",
    "<mark>..</mark> means the previous directory. One level up. \n",
    "```bash\n",
    "cd ../\n",
    "```\n",
    "\n",
    "#### pwd — Print working directory\n",
    "Where am I? > `pwd`"
   ]
  },
  {
   "cell_type": "markdown",
   "metadata": {
    "slideshow": {
     "slide_type": "slide"
    }
   },
   "source": [
    "\n",
    "#### echo — Prints text to the terminal window\n",
    "`echo Hello world`\n",
    "\n",
    "#### touch — Creates a file\n",
    "`touch readme.txt`\n",
    "\n",
    "#### less — view the contents of a text file\n",
    "```bash\n",
    "touch readme.txt\n",
    "echo hello world >> readme.txt\n",
    "less readme.txt\n",
    "```\n",
    "#### grep — search\n",
    "```bash\n",
    "grep hello readme.txt\n",
    "```\n",
    "\n",
    "#### mkdir — Create a directory\n",
    "\n",
    "#### rmdir — Remove directory\n",
    "\n"
   ]
  },
  {
   "cell_type": "markdown",
   "metadata": {},
   "source": [
    "## Git\n",
    "### clone\n",
    "```bash\n",
    "git clone https://github.com/.... \n",
    "```\n",
    "\n",
    "### Update repo \n",
    "```bash\n",
    "git pull \n",
    "```\n",
    "\n",
    "### Add changes (add - commit - push)\n",
    "```\n",
    "git add filename\n",
    "git commit -m \"did some changes in filename\"\n",
    "git push\n",
    "```\n"
   ]
  },
  {
   "cell_type": "markdown",
   "metadata": {},
   "source": [
    "## Secure shell (ssh)\n",
    "We use this to remotely access another computer from command line (cmd).\n",
    "\n",
    "### Log in to Saga\n",
    "```bash\n",
    "ssh -Y userXY@saga.sigma.no\n",
    "```\n",
    "the -Y is for trusted forwarding of X11 (display). You do not need to use -Y if you are not going to run any GUI software.\n",
    "\n",
    "## Copy stuff\n",
    "We use secure copy (scp) to copy files between computers.\n",
    "### Copy from remote to local\n",
    "```bash\n",
    "scp userXY@saga.sigma2.no:path/to/my_file .\n",
    "```\n",
    "\n",
    "### Copy from local to remote\n",
    "```bash\n",
    "scp my_file userXY@saga.sigma2.no:path/to/my_file\n",
    "```"
   ]
  },
  {
   "cell_type": "markdown",
   "metadata": {
    "slideshow": {
     "slide_type": "slide"
    }
   },
   "source": [
    "## REACT on Saga\n",
    "```bash\n",
    "module load chemREACT/REACT\n",
    "REACT.py\n",
    "```\n",
    "\n",
    "## Qgui on Saga\n",
    "```bash\n",
    "module load Qgui/Qgui\n",
    "```\n",
    "The Qgui module automatically loads Q6.\n",
    "\n",
    "## Gaussian on SAGA\n",
    "A job scritp, g16run.sh, is in bin.\n",
    "```bash\n",
    "g16run.sh $inputfile $nodes $hours\n",
    "```"
   ]
  },
  {
   "cell_type": "code",
   "execution_count": null,
   "metadata": {
    "slideshow": {
     "slide_type": "slide"
    }
   },
   "outputs": [],
   "source": []
  }
 ],
 "metadata": {
  "celltoolbar": "Slideshow",
  "kernelspec": {
   "display_name": "Python 3 (ipykernel)",
   "language": "python",
   "name": "python3"
  },
  "language_info": {
   "codemirror_mode": {
    "name": "ipython",
    "version": 3
   },
   "file_extension": ".py",
   "mimetype": "text/x-python",
   "name": "python",
   "nbconvert_exporter": "python",
   "pygments_lexer": "ipython3",
   "version": "3.9.7"
  }
 },
 "nbformat": 4,
 "nbformat_minor": 4
}
